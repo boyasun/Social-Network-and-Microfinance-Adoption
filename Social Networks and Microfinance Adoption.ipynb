{
 "cells": [
  {
   "cell_type": "markdown",
   "metadata": {},
   "source": [
    "#### About Project:\n",
    "#### This is a Machine Learning course project to study causality between social networks and adoption of commercial lending.\n",
    "##### **All data used in this project is from Banerjee, Chandrasekhar, Duflo, Jackson 2012: Social networks in India and Microfinance Adoption."
   ]
  },
  {
   "cell_type": "code",
   "execution_count": 1,
   "metadata": {},
   "outputs": [
    {
     "name": "stderr",
     "output_type": "stream",
     "text": [
      "Warning message:\n",
      "\"package 'gamlr' was built under R version 3.6.2\"Loading required package: Matrix\n",
      "Warning message:\n",
      "\"package 'Matrix' was built under R version 3.6.2\"Warning message:\n",
      "\"package 'igraph' was built under R version 3.6.2\"\n",
      "Attaching package: 'igraph'\n",
      "\n",
      "The following objects are masked from 'package:stats':\n",
      "\n",
      "    decompose, spectrum\n",
      "\n",
      "The following object is masked from 'package:base':\n",
      "\n",
      "    union\n",
      "\n",
      "Warning message:\n",
      "\"package 'glmnet' was built under R version 3.6.2\"Loaded glmnet 3.0-2\n",
      "\n"
     ]
    }
   ],
   "source": [
    "library(\"gamlr\")\n",
    "library(igraph)\n",
    "library(\"glmnet\")"
   ]
  },
  {
   "cell_type": "code",
   "execution_count": 4,
   "metadata": {},
   "outputs": [
    {
     "name": "stdout",
     "output_type": "stream",
     "text": [
      "'data.frame':\t8622 obs. of  9 variables:\n",
      " $ loan       : int  0 0 0 0 0 0 1 1 0 0 ...\n",
      " $ village    : int  1 1 1 1 1 1 1 1 1 1 ...\n",
      " $ religion   : Factor w/ 3 levels \"christian\",\"hindu\",..: 2 2 2 2 2 2 2 2 2 2 ...\n",
      " $ roof       : Factor w/ 6 levels \"other\",\"rcc\",..: 6 6 2 6 6 4 4 3 6 4 ...\n",
      " $ rooms      : int  3 1 3 2 3 2 3 2 2 2 ...\n",
      " $ beds       : int  4 1 4 6 4 1 5 1 7 1 ...\n",
      " $ electricity: int  0 1 1 1 1 1 1 1 1 1 ...\n",
      " $ ownership  : Factor w/ 5 levels \"GOVERNMENT\",\"LEASED\",..: 3 3 3 3 3 3 3 3 1 3 ...\n",
      " $ leader     : int  0 1 1 0 0 0 0 0 0 0 ...\n"
     ]
    }
   ],
   "source": [
    "# Read Data\n",
    "household <- read.csv(\"microfinance_households.csv\", row.names=\"hh\")\n",
    "\n",
    "# Look at data types in hh.\n",
    "str(household)\n",
    "\n",
    "# Transform loan, village, leader, electricity from \"int\" to \"Factor\".\n",
    "household$loan <- factor(household$loan)\n",
    "household$village <- factor(household$village)\n",
    "household$leader <- factor(household$leader)\n",
    "household$electricity <- factor(household$electricity)"
   ]
  },
  {
   "cell_type": "markdown",
   "metadata": {},
   "source": [
    "```\n",
    "\n",
    "```{r}\n",
    "# Read Data\n",
    "household <- read.csv(\"microfinance_households.csv\", row.names=\"hh\")\n",
    "\n",
    "# Look at data types in hh.\n",
    "str(household)\n",
    "\n",
    "# Transform loan, village, leader, electricity from \"int\" to \"Factor\".\n",
    "household$loan <- factor(household$loan)\n",
    "household$village <- factor(household$village)\n",
    "household$leader <- factor(household$leader)\n",
    "household$electricity <- factor(household$electricity)\n",
    "```\n",
    "#### 1. Variable Transformation\n",
    "The objective to know whether being more ‘connected’ makes a household more or less likely to engage in microfinance. In the dataset, degree refers to the number of commerce/friend/family connections. And since degree is a continuous variable, we are able to estimate the elasticity of treatment effect at a more granular level. Thus, we would use degree to create our treatment variable d. Prior to modeling, we performed a log transformation on degree due to its left-skewed distribution."
   ]
  },
  {
   "cell_type": "code",
   "execution_count": 5,
   "metadata": {},
   "outputs": [
    {
     "data": {
      "image/png": "[encoded data removed]",
      "text/plain": [
       "Plot with title \"Histogram of degree\""
      ]
     },
     "metadata": {},
     "output_type": "display_data"
    },
    {
     "data": {
      "image/png": "[encoded data removed]",
      "text/plain": [
       "Plot with title \"Histogram of log(1 + degree)\""
      ]
     },
     "metadata": {},
     "output_type": "display_data"
    }
   ],
   "source": [
    "# Create degree from edges.\n",
    "edges <- read.table(\"microfinance_edges.txt\", colClasses=\"character\")\n",
    "household.net <- graph.edgelist(as.matrix(edges))\n",
    "household.net <- as.undirected(household.net)\n",
    "matches <- match(rownames(household), V(household.net)$name)\n",
    "degree <- degree(household.net)[matches]\n",
    "names(degree) <- rownames(household)\n",
    "degree[is.na(degree)] <- 0\n",
    "\n",
    "# Look at the distribution of degree\n",
    "hist(degree)\n",
    "\n",
    "# The distribution is left skewed.\n",
    "# So normalize it by transforming to log(1+degree)\n",
    "hist(log(1+degree))\n",
    "degree<-log(1+degree)\n",
    "degree<-as.data.frame(degree)"
   ]
  },
  {
   "cell_type": "markdown",
   "metadata": {},
   "source": [
    "#### 2.  Confounder Effects\n",
    "To estimate the confounder effects of control variables on degree, use a lasso regression model with 5-folds cross-validation to predict the degree from all of our control variables (village, religion, roof, rooms, beds, electricity, ownership, leader). Interact all controls with one another (~.^2).\n",
    "<br>First split the data into 70% as training set and 30% testing set for the later model evaluation purpose. Explanatory variables are all controls and their interaction terms. Explained variable is degree (d). After fitting the model with training data, use the optimal lambda to predict the degree of households. Predicted degree of households is named as dhat. The Out of Sample R-squared of the prediction model is 0.0720."
   ]
  },
  {
   "cell_type": "code",
   "execution_count": 6,
   "metadata": {},
   "outputs": [],
   "source": [
    "# Create control variables.\n",
    "controls <- subset(household,select = -c(loan))\n",
    "\n",
    "# Create a matrix named x including all controls and all interactions.\n",
    "# Drop the first column which is the intercept because glmnet by default includes intercept in regression.\n",
    "x <- model.matrix(~ .^2,controls)[,-1]\n",
    "\n",
    "# Create a matrix for degree named as d\n",
    "d <- as.matrix(degree,ncol=1)"
   ]
  },
  {
   "cell_type": "code",
   "execution_count": 7,
   "metadata": {},
   "outputs": [],
   "source": [
    "# Split the data into train and test set\n",
    "set.seed(1234)\n",
    "n <- nrow(x)\n",
    "m = as.integer(0.7*n)\t\t\t\t\t\t\t\t\t\n",
    "ts = sample(1:n,m)\t\t\t\t\t\t\n",
    "x.train = x[ts,]\t\t\t\t\t\t\t\n",
    "d.train = d[ts]\n",
    "x.test = x[-ts,]\n",
    "d.test = d[-ts]"
   ]
  },
  {
   "cell_type": "code",
   "execution_count": 8,
   "metadata": {},
   "outputs": [
    {
     "data": {
      "image/png": "[encoded data removed]",
      "text/plain": [
       "plot without title"
      ]
     },
     "metadata": {},
     "output_type": "display_data"
    }
   ],
   "source": [
    "# Build a model to predict d from x, the control variables. Use lasso + CV.\n",
    "# Use 5 folds cv\n",
    "cvlasso.train <- cv.glmnet(x.train, d.train, nfolds = 5) \n",
    "\n",
    "# Us CV to find the \"best\" lambda\n",
    "bestlambda_train_2<-cvlasso.train$lambda.min\n",
    "plot(cvlasso.train)\n",
    "dhat.test <- predict(cvlasso.train, s = bestlambda_train_2,newx = x.test)\n",
    "colnames(dhat.test)<-\"dhat.test\""
   ]
  },
  {
   "cell_type": "code",
   "execution_count": 9,
   "metadata": {},
   "outputs": [
    {
     "data": {
      "text/html": [
       "'OOS R Squared is: 0.072048'"
      ],
      "text/latex": [
       "'OOS R Squared is: 0.072048'"
      ],
      "text/markdown": [
       "'OOS R Squared is: 0.072048'"
      ],
      "text/plain": [
       "[1] \"OOS R Squared is: 0.072048\""
      ]
     },
     "metadata": {},
     "output_type": "display_data"
    }
   ],
   "source": [
    "# How tight the fit is? \n",
    "# Calculate the r-squared\n",
    "rss.test <- sum((dhat.test - d.test) ^ 2)\n",
    "tss.test <- sum((d.test - mean(d.test)) ^ 2)\n",
    "rsq <- 1 - rss.test/tss.test\n",
    "sprintf(\"OOS R Squared is: %f\",rsq)"
   ]
  },
  {
   "cell_type": "code",
   "execution_count": 10,
   "metadata": {},
   "outputs": [
    {
     "data": {
      "image/png": "[encoded data removed]",
      "text/plain": [
       "plot without title"
      ]
     },
     "metadata": {},
     "output_type": "display_data"
    }
   ],
   "source": [
    "# plot dhat against d\n",
    "plot(dhat.test,d.test)\n",
    "\n",
    "# The fit is not tight. Degree is independent from controls. "
   ]
  },
  {
   "cell_type": "markdown",
   "metadata": {},
   "source": [
    "#### 3. Double-Lasso Model\n",
    "Use predictions from [2] in an estimator for effect of d on loan. This is an application of a treatment effects lasso where estimated dhad obtained from lasso regression of d on x is included in the lasso regression of loan on [d, dhat, x] with dhat unpenalized. This ensures that confounder effects on d is removed and that the effect of treatement variable d is not shrinked. The best lambda is the lambda that minimizes the deviance of the logistic lasso model. Then we fit the model with the best lambda (0.00041) to evaluate the causal effect of d on loan. The coefficient of d is the estimate of d’s effect on loan."
   ]
  },
  {
   "cell_type": "code",
   "execution_count": 11,
   "metadata": {},
   "outputs": [],
   "source": [
    "# All samples are split into train and test set in the chunk above to see how much d is explained by x.\n",
    "# However, to obtain all information of the part of d that is uncorrelated to x in the entire data set, \n",
    "# we need to predict dhat once again with x using all samples. \n",
    "cvlasso.all <- cv.glmnet(x, d, nfolds = 5) \n",
    "bestlambda_all_2<-cvlasso.all$lambda.min\n",
    "dhat <- predict(cvlasso.all, s = bestlambda_all_2,newx = x)\n",
    "colnames(dhat)<-\"dhat\""
   ]
  },
  {
   "cell_type": "code",
   "execution_count": 12,
   "metadata": {},
   "outputs": [],
   "source": [
    "# reg loan on d dhat x\n",
    "loan <- subset(household,select = c(loan))\n",
    "loan <- as.matrix(loan,ncol=1)\n",
    "d_dhat_x <- cbind(d,dhat,x)"
   ]
  },
  {
   "cell_type": "code",
   "execution_count": 13,
   "metadata": {},
   "outputs": [
    {
     "data": {
      "image/png": "[encoded data removed]",
      "text/plain": [
       "plot without title"
      ]
     },
     "metadata": {},
     "output_type": "display_data"
    }
   ],
   "source": [
    "# with dhat UNPENALIZED \n",
    "factor <- c(rep(1, ncol(d)), rep(0, ncol(dhat)),rep(1, ncol(x)))\n",
    "causal <- cv.glmnet(d_dhat_x, loan,\n",
    "                 penalty.factor=factor,\n",
    "                 family=\"binomial\", standardize=FALSE,nfolds = 5)\n",
    "plot(causal)"
   ]
  },
  {
   "cell_type": "code",
   "execution_count": 14,
   "metadata": {},
   "outputs": [
    {
     "data": {
      "text/html": [
       "'0.178203698442646'"
      ],
      "text/latex": [
       "'0.178203698442646'"
      ],
      "text/markdown": [
       "'0.178203698442646'"
      ],
      "text/plain": [
       "[1] \"0.178203698442646\""
      ]
     },
     "metadata": {},
     "output_type": "display_data"
    },
    {
     "data": {
      "text/html": [
       "'Degree\\'s effect on loan is: 0.178204'"
      ],
      "text/latex": [
       "'Degree\\textbackslash{}'s effect on loan is: 0.178204'"
      ],
      "text/markdown": [
       "'Degree\\'s effect on loan is: 0.178204'"
      ],
      "text/plain": [
       "[1] \"Degree's effect on loan is: 0.178204\""
      ]
     },
     "metadata": {},
     "output_type": "display_data"
    }
   ],
   "source": [
    "# Us CV to find the \"best\" lambda\n",
    "bestlambda_3<-causal$lambda.min\n",
    "# Effect\n",
    "effect<-coef(causal,s=\"lambda.min\")[\"degree\",]\n",
    "as.character(effect)\n",
    "sprintf(\"Degree's effect on loan is: %f\",effect)"
   ]
  },
  {
   "cell_type": "markdown",
   "metadata": {},
   "source": [
    "#### 4. Naive Lasso Model\n",
    "Here, we compare the result of a naive lasso model and the double lasso model in [3]\n",
    "We run a naive lasso for loan on d and x, which leads to d also being penalized by cost function because we don’t disentangle the part of d correlated with control variables from d. Also in the naive lasso model, we choose the best lambda according to AICc instead of cross-validation. The coefficient observed here is 0.172636 similar to that in [3]. This is because control variables can only explain 10% of d. In other words, d is relatively independent of control variables and so there’s not much confounder effect here. Even though the part of d correlated with control variables are penalized, the impact is neglectable. Therefore the result here is similar to that in double lasso."
   ]
  },
  {
   "cell_type": "code",
   "execution_count": 15,
   "metadata": {},
   "outputs": [
    {
     "data": {
      "text/html": [
       "'Degree\\'s effect on loan given by a naive lasso model is: 0.172636'"
      ],
      "text/latex": [
       "'Degree\\textbackslash{}'s effect on loan given by a naive lasso model is: 0.172636'"
      ],
      "text/markdown": [
       "'Degree\\'s effect on loan given by a naive lasso model is: 0.172636'"
      ],
      "text/plain": [
       "[1] \"Degree's effect on loan given by a naive lasso model is: 0.172636\""
      ]
     },
     "metadata": {},
     "output_type": "display_data"
    }
   ],
   "source": [
    "d_x <- cbind(d,x)\n",
    "naive <- glmnet(d_x, loan,\n",
    "                family=\"binomial\", standardize=FALSE)\n",
    "deviance <- deviance(naive)\n",
    "df <- naive$df\n",
    "n <- naive$nobs\n",
    "AICc <- deviance + 2*df*n/(n-df-1)\n",
    "naive_effect<-coef(naive)['degree',][which.min(AICc)]\n",
    "sprintf(\"Degree's effect on loan given by a naive lasso model is: %f\",naive_effect)"
   ]
  },
  {
   "cell_type": "markdown",
   "metadata": {},
   "source": [
    "#### 5. Bootstrapping\n",
    "Bootstrapping is a way to measure the estimate of the variable of interest by resampling our data with replacement. Here, we are measuring the estimator of our transformed variable “degree”. We run the sampling iterations 100 times and calculate coefficient of degree from the lasso model in [3]. The plot above shows the distribution of log-transformed degree. The mean is ~0 and sd ~ 0.035. We can conclude that the treatment effect ‘degree’ doesn’t affect the response i.e. whether a villager will get the loan or not. "
   ]
  },
  {
   "cell_type": "code",
   "execution_count": 16,
   "metadata": {},
   "outputs": [
    {
     "data": {
      "image/png": "[encoded data removed]",
      "text/plain": [
       "Plot with title \"Histogram of gamma\""
      ]
     },
     "metadata": {},
     "output_type": "display_data"
    }
   ],
   "source": [
    "gamma <- c()\n",
    "n <- nrow(x)\n",
    "for (b in 1:100){\n",
    "  ib <- sample(1:n,n,replace=TRUE)\n",
    "  fb <- glmnet(d_dhat_x[ib,], loan,\n",
    "               penalty.factor=factor,\n",
    "               family=\"binomial\", standardize=FALSE,\n",
    "               lambda = bestlambda_3)\n",
    "  gamma <- c(gamma, coef(fb)[\"degree\",])\n",
    "}\n",
    "\n",
    "hist(gamma)\n",
    "abline(v = mean(gamma),col = 2)\n",
    "abline(v = mean(gamma) + 2*sd(gamma),col = 3)\n",
    "abline(v = mean(gamma) - 2*sd(gamma),col = 3)"
   ]
  },
  {
   "cell_type": "code",
   "execution_count": null,
   "metadata": {},
   "outputs": [],
   "source": []
  }
 ],
 "metadata": {
  "kernelspec": {
   "display_name": "R",
   "language": "R",
   "name": "ir"
  },
  "language_info": {
   "codemirror_mode": "r",
   "file_extension": ".r",
   "mimetype": "text/x-r-source",
   "name": "R",
   "pygments_lexer": "r",
   "version": "3.6.1"
  }
 },
 "nbformat": 4,
 "nbformat_minor": 4
}
